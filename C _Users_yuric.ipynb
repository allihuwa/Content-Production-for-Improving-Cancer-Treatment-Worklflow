{
 "cells": [
  {
   "cell_type": "markdown",
   "metadata": {},
   "source": [
    "<a href=\"../desktop\" target=\"_blank\"><img src=\"https://www.slicer.org/img/3DSlicerLogo-H-Color-218x144.png\"/>\n",
    "<h1><center>Click here to open 3D Slicer in a new window</center></h1></a>"
   ]
  },
  {
   "cell_type": "code",
   "execution_count": 1,
   "metadata": {},
   "outputs": [
    {
     "data": {
      "text/html": [
       "\n",
       "        <iframe\n",
       "            width=\"960\"\n",
       "            height=\"768\"\n",
       "            src=\"../desktop\"\n",
       "            frameborder=\"0\"\n",
       "            allowfullscreen\n",
       "        ></iframe>\n",
       "        "
      ],
      "text/plain": [
       "<JupyterNotebooksLib.widgets.AppWindow object at 0x7fcfe74fb320>"
      ]
     },
     "execution_count": 1,
     "metadata": {},
     "output_type": "execute_result"
    }
   ],
   "source": [
    "# Run this cell (Shift+Enter) to show application here\n",
    "import JupyterNotebooksLib as slicernb\n",
    "slicernb.AppWindow(contents='full')"
   ]
  },
  {
   "cell_type": "code",
   "execution_count": 2,
   "metadata": {},
   "outputs": [
    {
     "data": {
      "application/vnd.jupyter.widget-view+json": {
       "model_id": "c46954fe8d6246cf9b25232e762586e7",
       "version_major": 2,
       "version_minor": 0
      },
      "text/plain": [
       "IntProgress(value=0)"
      ]
     },
     "metadata": {},
     "output_type": "display_data"
    }
   ],
   "source": [
    "#download file and load volume rendering to the scene\n",
    "slicer.mrmlScene.Clear()\n",
    "\n",
    "volume = slicernb.downloadFromURL(\n",
    "    uris=\"https://github.com/allihuwa/Content-Production-for-Improving-Cancer-Treatment-Worklflow/raw/master/pelvisvolume.nrrd\",\n",
    "    fileNames=\"pelvisvolume.nrrd\",\n",
    "    nodeNames=\"pelvisvolume\")[0]\n",
    "\n",
    "slicernb.showVolumeRendering(volume)"
   ]
  },
  {
   "cell_type": "code",
   "execution_count": 3,
   "metadata": {},
   "outputs": [
    {
     "data": {
      "text/plain": [
       "'Tumor'"
      ]
     },
     "execution_count": 3,
     "metadata": {},
     "output_type": "execute_result"
    }
   ],
   "source": [
    "#Enable segmentation and add sphere to the segmentation node\n",
    "\n",
    "segmentationNode = slicer.vtkMRMLSegmentationNode()\n",
    "slicer.mrmlScene.AddNode(segmentationNode)\n",
    "segmentationNode.CreateDefaultDisplayNodes() # only needed for display\n",
    "segmentationNode.SetReferenceImageGeometryParameterFromVolumeNode(volume)\n",
    "\n",
    "\n",
    "#Sphere 1\n",
    "tumorSeed = vtk.vtkSphereSource()\n",
    "tumorSeed.SetCenter(0, -50, 3)\n",
    "tumorSeed.SetRadius(10)\n",
    "tumorSeed.Update()\n",
    "segmentationNode.AddSegmentFromClosedSurfaceRepresentation(tumorSeed.GetOutput(), \"Tumor\", [1.0,0.0,0.0])\n"
   ]
  },
  {
   "cell_type": "code",
   "execution_count": 4,
   "metadata": {},
   "outputs": [
    {
     "data": {
      "text/plain": [
       "(MRMLCorePython.vtkMRMLPlotChartNode)0x7fcfe74e3a68"
      ]
     },
     "execution_count": 4,
     "metadata": {},
     "output_type": "execute_result"
    }
   ],
   "source": [
    "# Compute histogram of intensities corresponding to sphere location \n",
    "#with respect to the volume rendering location of intersection\n",
    "################################################\n",
    "\n",
    "labelValue = 1  # label value of first segment\n",
    "\n",
    "# Get segmentation as labelmap volume node\n",
    "labelmapVolumeNode = slicer.mrmlScene.AddNewNodeByClass('vtkMRMLLabelMapVolumeNode')\n",
    "slicer.modules.segmentations.logic().ExportVisibleSegmentsToLabelmapNode(segmentationNode, labelmapVolumeNode, volume)\n",
    "\n",
    "# Extract all voxels of the segment as numpy array\n",
    "volumeArray = slicer.util.arrayFromVolume(volume)\n",
    "labelArray = slicer.util.arrayFromVolume(labelmapVolumeNode)\n",
    "segmentVoxels = volumeArray[labelArray==labelValue]\n",
    "\n",
    "# Compute histogram\n",
    "import numpy as np\n",
    "histogram = np.histogram(segmentVoxels, bins=50)\n",
    "\n",
    "# Plot histogram\n",
    "################################################\n",
    "\n",
    "slicer.util.plot(histogram, xColumnIndex = 1)\t\t"
   ]
  },
  {
   "cell_type": "code",
   "execution_count": null,
   "metadata": {},
   "outputs": [],
   "source": []
  }
 ],
 "metadata": {
  "kernelspec": {
   "display_name": "Slicer 4.11",
   "language": "python",
   "name": "slicer-4.11"
  },
  "language_info": {
   "file_extension": ".py",
   "mimetype": "text/x-python",
   "name": "python",
   "version": "3.6.7"
  }
 },
 "nbformat": 4,
 "nbformat_minor": 4
}

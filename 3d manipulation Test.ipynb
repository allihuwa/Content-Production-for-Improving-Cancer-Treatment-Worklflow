{
 "cells": [
  {
   "cell_type": "code",
   "execution_count": null,
   "metadata": {},
   "outputs": [],
   "source": [
    "# Run this cell to load a file from a URL.\n",
    "# You can load your own data by changing inputs of downloadFromURL.\n",
    "# Any questions? Write us on the Slicer forum: https://discourse.slicer.org\n",
    "slicer.mrmlScene.Clear()\n",
    "\n",
    "volume = slicernb.downloadFromURL(\n",
    "    uris=\"https://github.com/allihuwa/Content-Production-for-Improving-Cancer-Treatment-Worklflow/raw/master/pelvisvolume.nrrd\",\n",
    "    fileNames=\"pelvisvolume.nrrd\",\n",
    "    nodeNames=\"pelvisvolume\")[0]\n",
    "\n",
    "slicernb.showVolumeRendering(volume)"
   ]
  },
  {
   "cell_type": "code",
   "execution_count": null,
   "metadata": {},
   "outputs": [],
   "source": [
    "\n",
    "# Enable volume cropping\n",
    "displayNode = slicer.modules.volumerendering.logic().GetFirstVolumeRenderingDisplayNode(volume)\n",
    "displayNode.SetCroppingEnabled(True)\n",
    "roiNode = displayNode.GetROINode()\n"
   ]
  },
  {
   "cell_type": "code",
   "execution_count": null,
   "metadata": {},
   "outputs": [],
   "source": [
    "# 3D view display\n",
    "slicernb.reset3DView()\n",
    "from ipywidgets import interact\n",
    "@interact(roll=(-90.0,90.0,5), pitch=(-90.0,90.0,5), yaw=(-180.0,180.0,5), cropx=(0,70,5), cropy=(0,120,5), cropz=(0, 80, 5))\n",
    "def update(roll=0, pitch=0, yaw=0, cropx=70, cropy=120, cropz=80):\n",
    "    roiNode.SetRadiusXYZ([cropx, cropy, cropz])\n",
    "    return slicernb.View3DDisplay(0, orientation=[roll, pitch, yaw])"
   ]
  }
 ],
 "metadata": {
  "kernelspec": {
   "display_name": "Slicer 4.11",
   "language": "python",
   "name": "slicer-4.11"
  },
  "language_info": {
   "file_extension": ".py",
   "mimetype": "text/x-python",
   "name": "python",
   "version": "3.6.7"
  }
 },
 "nbformat": 4,
 "nbformat_minor": 4
}
